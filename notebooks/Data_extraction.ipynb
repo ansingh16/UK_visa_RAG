{
 "cells": [
  {
   "cell_type": "markdown",
   "id": "34940c5d",
   "metadata": {},
   "source": [
    "## Data Extraction\n",
    "\n",
    "Using the UK immigration APIs to get the rules relevant for the project"
   ]
  },
  {
   "cell_type": "code",
   "execution_count": 32,
   "id": "44931279",
   "metadata": {},
   "outputs": [
    {
     "name": "stdout",
     "output_type": "stream",
     "text": [
      "Top-level keys: dict_keys(['analytics_identifier', 'base_path', 'content_id', 'description', 'details', 'document_type', 'first_published_at', 'links', 'locale', 'phase', 'public_updated_at', 'publishing_app', 'publishing_request_id', 'publishing_scheduled_at', 'rendering_app', 'scheduled_publishing_delay_seconds', 'schema_name', 'title', 'updated_at', 'withdrawn_notice'])\n",
      "Title: Immigration Rules\n",
      "Type: manual\n",
      "Description: A collection of the current Immigration Rules.\n",
      "\n",
      "Found 0 related sub-pages.\n"
     ]
    },
    {
     "data": {
      "text/html": [
       "<div>\n",
       "<style scoped>\n",
       "    .dataframe tbody tr th:only-of-type {\n",
       "        vertical-align: middle;\n",
       "    }\n",
       "\n",
       "    .dataframe tbody tr th {\n",
       "        vertical-align: top;\n",
       "    }\n",
       "\n",
       "    .dataframe thead th {\n",
       "        text-align: right;\n",
       "    }\n",
       "</style>\n",
       "<table border=\"1\" class=\"dataframe\">\n",
       "  <thead>\n",
       "    <tr style=\"text-align: right;\">\n",
       "      <th></th>\n",
       "    </tr>\n",
       "  </thead>\n",
       "  <tbody>\n",
       "  </tbody>\n",
       "</table>\n",
       "</div>"
      ],
      "text/plain": [
       "Empty DataFrame\n",
       "Columns: []\n",
       "Index: []"
      ]
     },
     "execution_count": 32,
     "metadata": {},
     "output_type": "execute_result"
    }
   ],
   "source": [
    "import requests\n",
    "import pandas as pd\n",
    "\n",
    "# Base URL for GOV.UK Content API\n",
    "BASE_URL = \"https://www.gov.uk/api/content\"\n",
    "\n",
    "# Immigration Rules entry page\n",
    "IMMIGRATION_RULES_PATH = \"/guidance/immigration-rules\"\n",
    "\n",
    "def fetch_content(path):\n",
    "    \"\"\"Fetch content JSON from GOV.UK Content API.\"\"\"\n",
    "    url = BASE_URL + path\n",
    "    response = requests.get(url)\n",
    "    response.raise_for_status()\n",
    "    return response.json()\n",
    "\n",
    "# Step 1: Get Immigration Rules page\n",
    "immigration_data = fetch_content(IMMIGRATION_RULES_PATH)\n",
    "\n",
    "# Step 2: Explore top-level keys\n",
    "print(\"Top-level keys:\", immigration_data.keys())\n",
    "\n",
    "# Step 3: Get page details\n",
    "title = immigration_data.get(\"title\")\n",
    "description = immigration_data.get(\"description\")\n",
    "document_type = immigration_data.get(\"document_type\")\n",
    "print(f\"Title: {title}\\nType: {document_type}\\nDescription: {description}\")\n",
    "\n",
    "# Step 4: Get links to sub-pages\n",
    "links = immigration_data.get(\"links\", {})\n",
    "subpages = links.get(\"ordered_related_items\", [])  # Many rules fall under this category\n",
    "\n",
    "print(f\"\\nFound {len(subpages)} related sub-pages.\")\n",
    "for sp in subpages[:10]:  # print first 10\n",
    "    print(f\"- {sp['title']} -> {sp['api_path']}\")\n",
    "\n",
    "# Step 5: Convert sub-pages into a DataFrame for exploration\n",
    "subpage_data = [\n",
    "    {\n",
    "        \"title\": sp.get(\"title\"),\n",
    "        \"description\": sp.get(\"description\"),\n",
    "        \"path\": sp.get(\"base_path\"),\n",
    "        \"api_url\": \"https://www.gov.uk\" + sp.get(\"api_path\", \"\")\n",
    "    }\n",
    "    for sp in subpages\n",
    "]\n",
    "\n",
    "df = pd.DataFrame(subpage_data)\n",
    "df.head()\n"
   ]
  },
  {
   "cell_type": "code",
   "execution_count": 33,
   "id": "e5ecf6e7",
   "metadata": {},
   "outputs": [
    {
     "name": "stdout",
     "output_type": "stream",
     "text": [
      "Available link types: dict_keys(['available_translations', 'document_collections', 'organisations', 'primary_publishing_organisation', 'sections', 'suggested_ordered_related_items', 'taxons'])\n",
      "\n",
      "Found 105 sections and 0 documents.\n",
      "SECTION: Immigration Rules: Index -> /api/content/guidance/immigration-rules/immigration-rules-index\n",
      "SECTION: Immigration Rules: introduction -> /api/content/guidance/immigration-rules/immigration-rules-introduction\n",
      "SECTION: Immigration Rules part 1: leave to enter or stay in the UK -> /api/content/guidance/immigration-rules/immigration-rules-part-1-leave-to-enter-or-stay-in-the-uk\n",
      "SECTION: Immigration Rules part 2: transitional provisions  -> /api/content/guidance/immigration-rules/immigration-rules-part-2-transitional-provisions\n",
      "SECTION: Immigration Rules part 3: students -> /api/content/guidance/immigration-rules/immigration-rules-part-3-students\n"
     ]
    }
   ],
   "source": [
    "# Inspect all available link types\n",
    "print(\"Available link types:\", immigration_data.get(\"links\", {}).keys())\n",
    "\n",
    "# Look for sections or documents\n",
    "sections = immigration_data[\"links\"].get(\"sections\", [])\n",
    "documents = immigration_data[\"links\"].get(\"documents\", [])\n",
    "\n",
    "print(f\"\\nFound {len(sections)} sections and {len(documents)} documents.\")\n",
    "\n",
    "# Preview sections\n",
    "for sec in sections[:5]:\n",
    "    print(f\"SECTION: {sec['title']} -> {sec['api_path']}\")\n",
    "\n",
    "# Preview documents (actual rule pages)\n",
    "for doc in documents[:5]:\n",
    "    print(f\"DOCUMENT: {doc['title']} -> {doc['api_path']}\")\n"
   ]
  },
  {
   "cell_type": "code",
   "execution_count": null,
   "id": "aa9858c8",
   "metadata": {},
   "outputs": [],
   "source": []
  },
  {
   "cell_type": "code",
   "execution_count": 25,
   "id": "14e43d1f",
   "metadata": {},
   "outputs": [
    {
     "name": "stdout",
     "output_type": "stream",
     "text": [
      "available_translations : <class 'list'>\n",
      "document_collections : <class 'list'>\n",
      "organisations : <class 'list'>\n",
      "primary_publishing_organisation : <class 'list'>\n",
      "sections : <class 'list'>\n",
      "suggested_ordered_related_items : <class 'list'>\n",
      "taxons : <class 'list'>\n"
     ]
    }
   ],
   "source": [
    "for key in data['links'].keys():\n",
    "    print(key, \":\", type(data['links'][key]))"
   ]
  },
  {
   "cell_type": "code",
   "execution_count": null,
   "id": "12fadab4",
   "metadata": {},
   "outputs": [],
   "source": []
  },
  {
   "cell_type": "code",
   "execution_count": null,
   "id": "e6099a56",
   "metadata": {},
   "outputs": [],
   "source": []
  }
 ],
 "metadata": {
  "kernelspec": {
   "display_name": "UK",
   "language": "python",
   "name": "python3"
  },
  "language_info": {
   "codemirror_mode": {
    "name": "ipython",
    "version": 3
   },
   "file_extension": ".py",
   "mimetype": "text/x-python",
   "name": "python",
   "nbconvert_exporter": "python",
   "pygments_lexer": "ipython3",
   "version": "3.11.13"
  }
 },
 "nbformat": 4,
 "nbformat_minor": 5
}
